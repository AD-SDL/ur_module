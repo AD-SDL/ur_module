{
 "cells": [
  {
   "cell_type": "code",
   "execution_count": null,
   "metadata": {},
   "outputs": [],
   "source": [
    "from madsci.client.node.rest_node_client import RestNodeClient\n",
    "from madsci.common.types.action_types import ActionRequest\n",
    "from madsci.common.types.location_types import LocationArgument\n",
    "\n",
    "client = RestNodeClient(url=\"http://localhost:3030\")"
   ]
  },
  {
   "cell_type": "code",
   "execution_count": null,
   "metadata": {},
   "outputs": [],
   "source": [
    "client.get_status().description"
   ]
  },
  {
   "cell_type": "code",
   "execution_count": null,
   "metadata": {},
   "outputs": [],
   "source": [
    "client.get_state()"
   ]
  },
  {
   "cell_type": "code",
   "execution_count": null,
   "metadata": {},
   "outputs": [],
   "source": [
    "request = ActionRequest(\n",
    "    action_name=\"transfer\",\n",
    "    args={\n",
    "        \"source\": LocationArgument(\n",
    "            location=[223.0, -38.068, 335.876, 325.434, 79.923, 995.062],\n",
    "            resource_id=\"01JQRWY6SQRZBS8ZXRGZZRMF94\",\n",
    "        ).model_dump(mode=\"json\"),\n",
    "        \"target\": LocationArgument(\n",
    "            location=[156, 66.112, 83.90, 656.404, 119.405, -946.818],\n",
    "            resource_id=\"01JQRWY6TGY3G0TYY6ZDT5ZWR5\",\n",
    "        ).model_dump(mode=\"json\"),\n",
    "        \"source_plate_rotation\": \"narrow\",\n",
    "        \"target_plate_rotation\": \"wide\",\n",
    "    },\n",
    ")"
   ]
  },
  {
   "cell_type": "code",
   "execution_count": null,
   "metadata": {},
   "outputs": [],
   "source": [
    "request = ActionRequest(\n",
    "    action_name=\"place_plate\",\n",
    "    args={\n",
    "        \"target\": LocationArgument(\n",
    "            location=[156, 66.112, 83.90, 656.404, 119.405, -946.818],\n",
    "            resource_id=\"01JQRWY6TGY3G0TYY6ZDT5ZWR5\",\n",
    "        ).model_dump(mode=\"json\"),\n",
    "    },\n",
    ")"
   ]
  },
  {
   "cell_type": "code",
   "execution_count": null,
   "metadata": {},
   "outputs": [],
   "source": [
    "camera_loc = [90.597, 26.416, 66.422, 714.811, 81.916, 995.074]"
   ]
  },
  {
   "cell_type": "code",
   "execution_count": null,
   "metadata": {},
   "outputs": [],
   "source": [
    "request = ActionRequest(\n",
    "    action_name=\"replace_lid\",\n",
    "    args={\n",
    "        \"target\": LocationArgument(\n",
    "            location=[223.0, -38.068, 335.876, 325.434, 79.923, 995.062],\n",
    "            resource_id=\"01JQRWY6SQRZBS8ZXRGZZRMF94\",\n",
    "        ).model_dump(mode=\"json\"),\n",
    "        \"source\": LocationArgument(\n",
    "            location=camera_loc, resource_id=\"01JQRWY6T7JQ2QY41Q7QJF0GET\"\n",
    "        ).model_dump(mode=\"json\"),\n",
    "    },\n",
    ")"
   ]
  },
  {
   "cell_type": "code",
   "execution_count": null,
   "metadata": {},
   "outputs": [],
   "source": [
    "client.send_action(action_request=request)"
   ]
  },
  {
   "cell_type": "code",
   "execution_count": null,
   "metadata": {},
   "outputs": [],
   "source": []
  },
  {
   "cell_type": "code",
   "execution_count": null,
   "metadata": {},
   "outputs": [],
   "source": [
    "client.get_action_result(request.action_id)"
   ]
  },
  {
   "cell_type": "code",
   "execution_count": null,
   "metadata": {},
   "outputs": [],
   "source": [
    "client.send_admin_command(\"reset\")"
   ]
  },
  {
   "cell_type": "code",
   "execution_count": null,
   "metadata": {},
   "outputs": [],
   "source": []
  }
 ],
 "metadata": {
  "kernelspec": {
   "display_name": ".venv",
   "language": "python",
   "name": "python3"
  },
  "language_info": {
   "codemirror_mode": {
    "name": "ipython",
    "version": 3
   },
   "file_extension": ".py",
   "mimetype": "text/x-python",
   "name": "python",
   "nbconvert_exporter": "python",
   "pygments_lexer": "ipython3",
   "version": "3.13.2"
  }
 },
 "nbformat": 4,
 "nbformat_minor": 2
}
