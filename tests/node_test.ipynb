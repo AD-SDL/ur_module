{
 "cells": [
  {
   "cell_type": "code",
   "execution_count": null,
   "metadata": {},
   "outputs": [],
   "source": [
    "from madsci.client.node.rest_node_client import RestNodeClient\n",
    "from madsci.common.types.action_types import ActionRequest\n",
    "from madsci.common.types.location_types import LocationArgument\n",
    "\n",
    "client = RestNodeClient(url=\"http://localhost:3030\")"
   ]
  },
  {
   "cell_type": "code",
   "execution_count": null,
   "metadata": {},
   "outputs": [],
   "source": [
    "client.get_status().description"
   ]
  },
  {
   "cell_type": "code",
   "execution_count": null,
   "metadata": {},
   "outputs": [],
   "source": [
    "client.get_state()"
   ]
  },
  {
   "cell_type": "code",
   "execution_count": null,
   "metadata": {},
   "outputs": [],
   "source": [
    "request = ActionRequest(\n",
    "    action_name=\"gripper_transfer\",\n",
    "    args={\n",
    "        \"home\": LocationArgument(\n",
    "            location=[\n",
    "                -6.1809425989734095,\n",
    "                -1.9489895306029261,\n",
    "                2.05842096010317,\n",
    "                6.114075171738424,\n",
    "                1.5849356651306152,\n",
    "                0.007065845653414726,\n",
    "            ],\n",
    "            resource_id=None,\n",
    "        ).model_dump(mode=\"json\"),\n",
    "        \"source\": LocationArgument(\n",
    "            location=[\n",
    "                -4.626934830342428,\n",
    "                -0.6786025923541565,\n",
    "                1.0300758520709437,\n",
    "                5.948157655983724,\n",
    "                1.6586629152297974,\n",
    "                0.0070164683274924755,\n",
    "            ],\n",
    "            resource_id=None,\n",
    "        ).model_dump(mode=\"json\"),\n",
    "        \"target\": LocationArgument(\n",
    "            location=[\n",
    "                -4.626934830342428,\n",
    "                -0.6786025923541565,\n",
    "                1.0300758520709437,\n",
    "                5.948157655983724,\n",
    "                1.6586629152297974,\n",
    "                0.0070164683274924755,\n",
    "            ],\n",
    "            resource_id=None,\n",
    "        ).model_dump(mode=\"json\"),\n",
    "    },\n",
    ")"
   ]
  },
  {
   "cell_type": "code",
   "execution_count": null,
   "metadata": {},
   "outputs": [],
   "source": [
    "client.send_action(action_request=request)"
   ]
  },
  {
   "cell_type": "code",
   "execution_count": null,
   "metadata": {},
   "outputs": [],
   "source": []
  },
  {
   "cell_type": "code",
   "execution_count": null,
   "metadata": {},
   "outputs": [],
   "source": [
    "client.get_action_result(request.action_id)"
   ]
  },
  {
   "cell_type": "code",
   "execution_count": null,
   "metadata": {},
   "outputs": [],
   "source": [
    "client.send_admin_command(\"reset\")"
   ]
  },
  {
   "cell_type": "code",
   "execution_count": null,
   "metadata": {},
   "outputs": [],
   "source": []
  }
 ],
 "metadata": {
  "kernelspec": {
   "display_name": ".venv",
   "language": "python",
   "name": "python3"
  },
  "language_info": {
   "codemirror_mode": {
    "name": "ipython",
    "version": 3
   },
   "file_extension": ".py",
   "mimetype": "text/x-python",
   "name": "python",
   "nbconvert_exporter": "python",
   "pygments_lexer": "ipython3",
   "version": "3.11.5"
  }
 },
 "nbformat": 4,
 "nbformat_minor": 2
}
