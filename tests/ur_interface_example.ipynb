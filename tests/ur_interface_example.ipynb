{
 "cells": [
  {
   "cell_type": "markdown",
   "id": "0",
   "metadata": {},
   "source": [
    "# UR Interface Example Notebook\n",
    "\n",
    "This notebook demonstrates basic usage of the `UR` interface."
   ]
  },
  {
   "cell_type": "code",
   "execution_count": null,
   "id": "1",
   "metadata": {},
   "outputs": [],
   "source": [
    "import numpy as np\n",
    "from ur_interface.ur import UR\n",
    "from ur_interface.ur_kinematics import get_pose_from_joint_angles"
   ]
  },
  {
   "cell_type": "markdown",
   "id": "2",
   "metadata": {},
   "source": [
    "## Connect to UR Robot"
   ]
  },
  {
   "cell_type": "code",
   "execution_count": null,
   "id": "3",
   "metadata": {},
   "outputs": [],
   "source": [
    "robot = UR(hostname=\"146.137.240.38\")\n",
    "\n",
    "joint_angles = robot.ur_connection.getj()\n",
    "tcp_pose = robot.ur_connection.getl()\n",
    "print(\"Current Joint Angles:\", np.round(joint_angles, 4))\n",
    "print(\"Current TCP Pose:\", np.round(tcp_pose, 4))"
   ]
  },
  {
   "cell_type": "markdown",
   "id": "4",
   "metadata": {},
   "source": [
    "## Forward Kinematics from Joint Angles"
   ]
  },
  {
   "cell_type": "code",
   "execution_count": null,
   "id": "5",
   "metadata": {},
   "outputs": [],
   "source": [
    "fk_pose = get_pose_from_joint_angles(joint_angles)\n",
    "print(\"Pose from FK:\", np.round(fk_pose, 4))"
   ]
  },
  {
   "cell_type": "markdown",
   "id": "6",
   "metadata": {},
   "source": [
    "## Enable Freedrive and Move to Home"
   ]
  },
  {
   "cell_type": "code",
   "execution_count": null,
   "id": "7",
   "metadata": {},
   "outputs": [],
   "source": [
    "robot.ur_connection.set_freedrive(60)\n",
    "home_joints = robot.ur_connection.getj()\n",
    "robot.home(home_joints)"
   ]
  },
  {
   "cell_type": "markdown",
   "id": "8",
   "metadata": {},
   "source": [
    "## Set Gripper to Face Down"
   ]
  },
  {
   "cell_type": "code",
   "execution_count": null,
   "id": "9",
   "metadata": {},
   "outputs": [],
   "source": [
    "pose = robot.ur_connection.getl()\n",
    "pose[3], pose[4], pose[5] = np.pi, 0, 0\n",
    "robot.ur_connection.movel(pose, acc=1.2, vel=0.75)"
   ]
  },
  {
   "cell_type": "markdown",
   "id": "10",
   "metadata": {},
   "source": [
    "## Example: Set Digital IO"
   ]
  },
  {
   "cell_type": "code",
   "execution_count": null,
   "id": "11",
   "metadata": {},
   "outputs": [],
   "source": [
    "robot.set_digital_io(channel=2, value=True)"
   ]
  },
  {
   "cell_type": "markdown",
   "id": "12",
   "metadata": {},
   "source": [
    "## Disconnect"
   ]
  },
  {
   "cell_type": "code",
   "execution_count": null,
   "id": "13",
   "metadata": {},
   "outputs": [],
   "source": [
    "robot.disconnect()"
   ]
  }
 ],
 "metadata": {},
 "nbformat": 4,
 "nbformat_minor": 5
}
