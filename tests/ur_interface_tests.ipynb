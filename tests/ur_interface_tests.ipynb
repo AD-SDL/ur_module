{
 "cells": [
  {
   "cell_type": "markdown",
   "id": "0",
   "metadata": {},
   "source": [
    "# UR Interface Advanced Operations\n",
    "\n",
    "This notebook demonstrates full examples of pick/place, gripper operations, pipette transfers, IO, and screwdriver use."
   ]
  },
  {
   "cell_type": "code",
   "execution_count": null,
   "id": "1",
   "metadata": {},
   "outputs": [],
   "source": [
    "from time import sleep\n",
    "\n",
    "from ur_interface.ur import UR\n",
    "from ur_interface.ur_kinematics import get_pose_from_joint_angles"
   ]
  },
  {
   "cell_type": "markdown",
   "id": "2",
   "metadata": {},
   "source": [
    "## 1. Connect to Robot"
   ]
  },
  {
   "cell_type": "code",
   "execution_count": null,
   "id": "3",
   "metadata": {},
   "outputs": [],
   "source": [
    "robot = UR(hostname=\"146.137.240.38\")"
   ]
  },
  {
   "cell_type": "markdown",
   "id": "4",
   "metadata": {},
   "source": [
    "## 2. Go Home"
   ]
  },
  {
   "cell_type": "code",
   "execution_count": null,
   "id": "5",
   "metadata": {},
   "outputs": [],
   "source": [
    "home = robot.ur_connection.getj()\n",
    "robot.home(home)"
   ]
  },
  {
   "cell_type": "markdown",
   "id": "6",
   "metadata": {},
   "source": [
    "## 3. Pick and Place Tool Example (Simulated)"
   ]
  },
  {
   "cell_type": "code",
   "execution_count": null,
   "id": "7",
   "metadata": {},
   "outputs": [],
   "source": [
    "# Simulated tool location (replace with LocationArgument or actual pose)\n",
    "tool_loc = robot.ur_connection.getl()\n",
    "robot.pick_tool(home=home, tool_loc=tool_loc, docking_axis=\"y\", tool_name=\"gripper\")\n",
    "sleep(2)\n",
    "robot.place_tool(home=home, tool_loc=tool_loc, docking_axis=\"y\")"
   ]
  },
  {
   "cell_type": "markdown",
   "id": "8",
   "metadata": {},
   "source": [
    "## 4. Gripper Transfer"
   ]
  },
  {
   "cell_type": "code",
   "execution_count": null,
   "id": "9",
   "metadata": {},
   "outputs": [],
   "source": [
    "# Simulate source and target poses\n",
    "source = robot.ur_connection.getl()\n",
    "target = source.copy()\n",
    "target[0] += 0.05\n",
    "\n",
    "# Gripper transfer\n",
    "gripper_open = 255\n",
    "gripper_close = 100\n",
    "robot.gripper_transfer(\n",
    "    home=home,\n",
    "    source=source,\n",
    "    target=target,\n",
    "    source_approach_axis=\"z\",\n",
    "    target_approach_axis=\"z\",\n",
    "    source_approach_distance=0.1,\n",
    "    target_approach_distance=0.1,\n",
    "    gripper_open=gripper_open,\n",
    "    gripper_close=gripper_close,\n",
    ")"
   ]
  },
  {
   "cell_type": "markdown",
   "id": "10",
   "metadata": {},
   "source": [
    "## 5. Gripper Pick then Place"
   ]
  },
  {
   "cell_type": "code",
   "execution_count": null,
   "id": "11",
   "metadata": {},
   "outputs": [],
   "source": [
    "robot.gripper_pick(home=home, source=source, source_approach_axis=\"z\", gripper_close=gripper_close)\n",
    "robot.gripper_place(home=home, target=target, target_approach_axis=\"z\", gripper_open=gripper_open)"
   ]
  },
  {
   "cell_type": "markdown",
   "id": "12",
   "metadata": {},
   "source": [
    "## 6. Pipette Transfer with Forward Kinematics"
   ]
  },
  {
   "cell_type": "code",
   "execution_count": null,
   "id": "13",
   "metadata": {},
   "outputs": [],
   "source": [
    "# Fake joint values -> Pose using FK\n",
    "joint_angles = robot.ur_connection.getj()\n",
    "tip_pose = get_pose_from_joint_angles(joint_angles)\n",
    "\n",
    "robot.pipette_transfer(home=home, tip_loc=tip_pose, tip_trash=tip_pose, source=tip_pose, target=tip_pose, volume=10)"
   ]
  },
  {
   "cell_type": "markdown",
   "id": "14",
   "metadata": {},
   "source": [
    "## 7. Set Digital IO"
   ]
  },
  {
   "cell_type": "code",
   "execution_count": null,
   "id": "15",
   "metadata": {},
   "outputs": [],
   "source": [
    "robot.set_digital_io(channel=1, value=True)\n",
    "sleep(1)\n",
    "robot.set_digital_io(channel=1, value=False)"
   ]
  },
  {
   "cell_type": "markdown",
   "id": "16",
   "metadata": {},
   "source": [
    "## 8. Screwdriver Transfer"
   ]
  },
  {
   "cell_type": "code",
   "execution_count": null,
   "id": "17",
   "metadata": {},
   "outputs": [],
   "source": [
    "source = robot.ur_connection.getl()\n",
    "target = source.copy()\n",
    "target[1] += 0.05\n",
    "\n",
    "robot.robotiq_screwdriver_transfer(\n",
    "    home=home,\n",
    "    source=source,\n",
    "    target=target,\n",
    "    source_approach_axis=\"z\",\n",
    "    target_approach_axis=\"z\",\n",
    "    source_approach_distance=0.05,\n",
    "    target_approach_distance=0.05,\n",
    ")"
   ]
  },
  {
   "cell_type": "markdown",
   "id": "18",
   "metadata": {},
   "source": [
    "## 9. Disconnect"
   ]
  },
  {
   "cell_type": "code",
   "execution_count": null,
   "id": "19",
   "metadata": {},
   "outputs": [],
   "source": [
    "robot.disconnect()"
   ]
  },
  {
   "cell_type": "markdown",
   "id": "20",
   "metadata": {},
   "source": [
    "## MORE EXAMPLES"
   ]
  },
  {
   "cell_type": "code",
   "execution_count": null,
   "id": "21",
   "metadata": {},
   "outputs": [],
   "source": [
    "home = [\n",
    "    0.5431541204452515,\n",
    "    -1.693524023095602,\n",
    "    -0.7301170229911804,\n",
    "    -2.2898713550963343,\n",
    "    1.567720651626587,\n",
    "    -1.0230830351458948,\n",
    "]\n",
    "pipette_loc = [\n",
    "    0.21285670041158733,\n",
    "    0.1548897634390196,\n",
    "    0.005543999069077835,\n",
    "    3.137978068966478,\n",
    "    -0.009313836267512065,\n",
    "    -0.0008972976992386885,\n",
    "]\n",
    "handE_loc = [\n",
    "    0.3131286590368134,\n",
    "    0.15480163498252172,\n",
    "    0.005543999069077835,\n",
    "    3.137978068966478,\n",
    "    -0.009313836267512065,\n",
    "    -0.0008972976992386885,\n",
    "]\n",
    "screwdriver_loc = [\n",
    "    0.43804370307762014,\n",
    "    0.15513117190281586,\n",
    "    0.006677533813616729,\n",
    "    3.137978068966478,\n",
    "    -0.009313836267512065,\n",
    "    -0.0008972976992386885,\n",
    "]\n",
    "\n",
    "tip1 = [\n",
    "    0.04314792894103472,\n",
    "    -0.2860322742006418,\n",
    "    0.2280902599833372,\n",
    "    3.1380017093793624,\n",
    "    -0.00934365687097245,\n",
    "    -0.0006742913527073343,\n",
    "]\n",
    "sample = [\n",
    "    0.46141141854542533,\n",
    "    -0.060288367363232544,\n",
    "    0.25108778472947074,\n",
    "    3.1380721475655364,\n",
    "    -0.009380578809401673,\n",
    "    -0.0005480714914954698,\n",
    "]\n",
    "sample_dispense = [\n",
    "    0.3171082280819746,\n",
    "    -0.2850972337811901,\n",
    "    0.3411125132555506,\n",
    "    3.1379895509880757,\n",
    "    -0.009383853947478633,\n",
    "    -0.0007087863735219047,\n",
    "]\n",
    "vial_cap = [\n",
    "    0.46318998963189156,\n",
    "    -0.0618242346521575,\n",
    "    0.22044247577669074,\n",
    "    3.1380871312109466,\n",
    "    -0.009283145361593024,\n",
    "    -0.0008304449494246685,\n",
    "]\n",
    "vial_cap_holder = [\n",
    "    0.3496362594442045,\n",
    "    -0.19833129786349898,\n",
    "    0.21851956360142491,\n",
    "    3.1380370691898447,\n",
    "    -0.00907338154155439,\n",
    "    -0.0006817652068428923,\n",
    "]\n",
    "tip_trash = [\n",
    "    0.2584365150735084,\n",
    "    -0.29839447002022784,\n",
    "    0.26381819707970183,\n",
    "    3.1380107495494363,\n",
    "    -0.009257765762271986,\n",
    "    -0.0005604922095049701,\n",
    "]\n",
    "\n",
    "cell_screw = [\n",
    "    0.2874263975289342,\n",
    "    -0.2865822322485842,\n",
    "    0.3180272525328063,\n",
    "    3.1380331051698533,\n",
    "    -0.009437118292235473,\n",
    "    -0.0007542998874791568,\n",
    "]\n",
    "cell_screw2 = [\n",
    "    0.28785074639084496,\n",
    "    -0.3117594886471939,\n",
    "    0.3180272525328063,\n",
    "    3.138005298544322,\n",
    "    -0.009407801356733062,\n",
    "    -0.0005678208909298462,\n",
    "]\n",
    "\n",
    "# screw_holder = [0.21876722334540147, -0.27273358502932915, 0.39525473397805677, 3.0390618278038524, -0.7398330220514875, 0.016498425988567388]\n",
    "hex_key = [\n",
    "    0.4484990523709619,\n",
    "    -0.1237038201799127,\n",
    "    0.2186755997135713,\n",
    "    3.135206222241475,\n",
    "    -0.02162004543818643,\n",
    "    0.010296128434757565,\n",
    "]\n",
    "cell_holder = [\n",
    "    0.4118605516028128,\n",
    "    -0.21084692579385614,\n",
    "    0.21973007226508956,\n",
    "    3.1352348451315843,\n",
    "    -0.021708986801283955,\n",
    "    0.010352984644658518,\n",
    "]\n",
    "assembly_deck = [\n",
    "    0.3174903285108201,\n",
    "    -0.08258211007606345,\n",
    "    0.11525282484663647,\n",
    "    1.2274734115134542,\n",
    "    1.190534780943193,\n",
    "    -1.1813375188608897,\n",
    "]\n",
    "assembly_above = [\n",
    "    0.31914521296697795,\n",
    "    -0.2855210106568889,\n",
    "    0.3477093639368639,\n",
    "    3.1380580674341614,\n",
    "    -0.009396149170921641,\n",
    "    -0.0006625851593942707,\n",
    "]\n",
    "test_loc = [\n",
    "    0.30364466226740844,\n",
    "    -0.1243275644148994,\n",
    "    0.2844145579322907,\n",
    "    3.1380384242791366,\n",
    "    -0.009336265404641286,\n",
    "    -0.0007377624513656736,\n",
    "]\n",
    "\n",
    "ur5_handE = [\n",
    "    0.4505002372355746,\n",
    "    0.16717122871181722,\n",
    "    0.00739685825039485,\n",
    "    -3.1306952779568222,\n",
    "    0.020705220743989523,\n",
    "    -0.004641385258241053,\n",
    "]\n",
    "ur5_measurement_unit = [\n",
    "    -0.04604452261651587,\n",
    "    0.4160887446750063,\n",
    "    0.5646084224408194,\n",
    "    -3.130749997794984,\n",
    "    0.020664206546694767,\n",
    "    -0.004545336675276125,\n",
    "]\n",
    "ur5_cell_holder = [\n",
    "    0.023601991519811308,\n",
    "    -0.8269812730950779,\n",
    "    0.22224875259615529,\n",
    "    -3.1294422940780655,\n",
    "    0.024367760380236043,\n",
    "    -0.006320087283384127,\n",
    "]\n",
    "ur5_home = [\n",
    "    0.2069321870803833,\n",
    "    -1.4558529642275353,\n",
    "    -1.5868407487869263,\n",
    "    -1.665375371972555,\n",
    "    1.5850671529769897,\n",
    "    -1.350588623677389,\n",
    "]\n",
    "\n",
    "# print(robot3.ur_connection.getl())\n",
    "# CELL ASSEMBLY\n",
    "\n",
    "# Put a cell into assamply and instal cap on one side\n",
    "# robot3.pick_tool(home, handE_loc,payload=1.2)\n",
    "# robot3.gripper_transfer(home = home, source = cell_holder, target = assembly_deck, source_approach_axis=\"z\", target_approach_axis=\"y\", gripper_open = 190, gripper_close = 240)\n",
    "# robot3.gripper_screw_transfer(home=home,screwdriver_loc=hex_key,screw_loc=cell_screw,target=assembly_above,gripper_open=120,gripper_close=200,screw_time=10)\n",
    "# robot3.pick_and_flip_object(home=home,target=assembly_deck,approach_axis=\"y\",gripper_open=190,gripper_close=240)\n",
    "# robot3.remove_cap(home=home,source=vial_cap,target=vial_cap_holder,gripper_open=120, gripper_close=200)\n",
    "# robot3.place_tool(home,tool_loc=handE_loc)\n",
    "\n",
    "# # Transfer sample using pipette\n",
    "# robot3.pick_tool(home,tool_loc=pipette_loc,payload=1.2)\n",
    "# robot3.pipette_transfer(home=home,tip_loc=tip1, tip_trash=tip_trash, source=sample, target=sample_dispense, volume=9)\n",
    "# robot3.place_tool(home,tool_loc=pipette_loc)\n",
    "\n",
    "# Install cap on the other side of the cell\n",
    "# robot3.pick_tool(home, handE_loc,payload=1.2)\n",
    "# robot3.place_cap(home=home,source=vial_cap_holder,target=vial_cap,gripper_open=120, gripper_close=200)\n",
    "# robot3.gripper_screw_transfer(home=home,screwdriver_loc=hex_key,screw_loc=cell_screw2,target=assembly_above,gripper_open=120,gripper_close=200,screw_time=10)\n",
    "# robot3.gripper_transfer(home = home, source = assembly_deck, target = cell_holder, source_approach_axis=\"y\", target_approach_axis=\"z\", gripper_open = 190, gripper_close = 240)\n",
    "# robot3.place_tool(home, handE_loc)\n",
    "# robot5.pick_tool(home= ur5_home,tool_loc=ur5_handE)\n",
    "# robot5.gripper_transfer(home = ur5_home, source = ur5_cell_holder, target = ur5_measurement_unit, source_approach_axis=\"z\", target_approach_axis=\"z\",source_approach_distance=0.15, target_approach_distance=0.15, gripper_open = 190, gripper_close = 240)\n",
    "# robot5.place_tool(home= ur5_home,tool_loc=ur5_handE)"
   ]
  }
 ],
 "metadata": {
  "language_info": {
   "name": "python"
  }
 },
 "nbformat": 4,
 "nbformat_minor": 5
}
