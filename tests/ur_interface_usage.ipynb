{
 "cells": [
  {
   "cell_type": "markdown",
   "id": "0",
   "metadata": {},
   "source": [
    "# UR Interface Usage Examples\n",
    "\n",
    "Demonstrate main methods of the `UR` class step-by-step."
   ]
  },
  {
   "cell_type": "code",
   "execution_count": null,
   "id": "1",
   "metadata": {},
   "outputs": [],
   "source": [
    "import numpy as np\n",
    "from ur_interface.ur import UR\n",
    "from ur_interface.ur_kinematics import get_pose_from_joint_angles"
   ]
  },
  {
   "cell_type": "markdown",
   "id": "2",
   "metadata": {},
   "source": [
    "## 1. Connect to Robot"
   ]
  },
  {
   "cell_type": "code",
   "execution_count": null,
   "id": "3",
   "metadata": {},
   "outputs": [],
   "source": [
    "robot = UR(hostname='146.137.240.38')"
   ]
  },
  {
   "cell_type": "markdown",
   "id": "4",
   "metadata": {},
   "source": [
    "## 2. Get Robot Movement State"
   ]
  },
  {
   "cell_type": "code",
   "execution_count": null,
   "id": "5",
   "metadata": {},
   "outputs": [],
   "source": [
    "state, joints = robot.get_movement_state()\n",
    "print('Robot State:', state)\n",
    "print('Current Joint Angles:', np.round(joints, 4))"
   ]
  },
  {
   "cell_type": "markdown",
   "id": "6",
   "metadata": {},
   "source": [
    "## 3. Home Robot (Move to Home Joint Position)"
   ]
  },
  {
   "cell_type": "code",
   "execution_count": null,
   "id": "7",
   "metadata": {},
   "outputs": [],
   "source": [
    "home_joints = robot.ur_connection.getj()\n",
    "robot.home(home_location=home_joints)"
   ]
  },
  {
   "cell_type": "markdown",
   "id": "8",
   "metadata": {},
   "source": [
    "## 4. Pick Tool (Simulated)"
   ]
  },
  {
   "cell_type": "code",
   "execution_count": null,
   "id": "9",
   "metadata": {},
   "outputs": [],
   "source": [
    "# Simulate dummy locations\n",
    "tool_location = [0, 0, 0, 0, 0, 0]  # Normally LocationArgument\n",
    "# robot.pick_tool(home=home_joints, tool_loc=tool_location, docking_axis='y', payload=0.12, tool_name='gripper')"
   ]
  },
  {
   "cell_type": "markdown",
   "id": "10",
   "metadata": {},
   "source": [
    "## 5. Place Tool (Simulated)"
   ]
  },
  {
   "cell_type": "code",
   "execution_count": null,
   "id": "11",
   "metadata": {},
   "outputs": [],
   "source": [
    "# robot.place_tool(home=home_joints, tool_loc=tool_location, docking_axis='y')"
   ]
  },
  {
   "cell_type": "markdown",
   "id": "12",
   "metadata": {},
   "source": [
    "## 6. Set Digital Output (IO)"
   ]
  },
  {
   "cell_type": "code",
   "execution_count": null,
   "id": "13",
   "metadata": {},
   "outputs": [],
   "source": [
    "robot.set_digital_io(channel=2, value=True)"
   ]
  },
  {
   "cell_type": "markdown",
   "id": "14",
   "metadata": {},
   "source": [
    "## 7. Gripper Pick and Place (Simulated Transfer)"
   ]
  },
  {
   "cell_type": "code",
   "execution_count": null,
   "id": "15",
   "metadata": {},
   "outputs": [],
   "source": [
    "# Dummy poses\n",
    "source_pose = robot.ur_connection.getl()\n",
    "target_pose = source_pose.copy()\n",
    "target_pose[0] += 0.1\n",
    "\n",
    "# robot.gripper_transfer(home=home_joints, source=source_pose, target=target_pose, source_approach_axis='z', target_approach_axis='z')"
   ]
  },
  {
   "cell_type": "markdown",
   "id": "16",
   "metadata": {},
   "source": [
    "## 8. Gripper Pick Only"
   ]
  },
  {
   "cell_type": "code",
   "execution_count": null,
   "id": "17",
   "metadata": {},
   "outputs": [],
   "source": [
    "# robot.gripper_pick(home=home_joints, source=source_pose, source_approach_axis='z')"
   ]
  },
  {
   "cell_type": "markdown",
   "id": "18",
   "metadata": {},
   "source": [
    "## 9. Gripper Place Only"
   ]
  },
  {
   "cell_type": "code",
   "execution_count": null,
   "id": "19",
   "metadata": {},
   "outputs": [],
   "source": [
    "# robot.gripper_place(home=home_joints, target=target_pose, target_approach_axis='z')"
   ]
  },
  {
   "cell_type": "markdown",
   "id": "20",
   "metadata": {},
   "source": [
    "## 10. Run URP Program"
   ]
  },
  {
   "cell_type": "code",
   "execution_count": null,
   "id": "21",
   "metadata": {},
   "outputs": [],
   "source": [
    "# robot.run_urp_program(program_name='test_program.urp')"
   ]
  },
  {
   "cell_type": "markdown",
   "id": "22",
   "metadata": {},
   "source": [
    "## 11. Disconnect Robot"
   ]
  },
  {
   "cell_type": "code",
   "execution_count": null,
   "id": "23",
   "metadata": {},
   "outputs": [],
   "source": [
    "robot.disconnect()"
   ]
  }
 ],
 "metadata": {},
 "nbformat": 4,
 "nbformat_minor": 5
}
